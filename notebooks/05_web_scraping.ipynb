{
 "cells": [
  {
   "cell_type": "code",
   "execution_count": 6,
   "id": "a4412e36-5246-44d6-95b1-f8cc9ada26df",
   "metadata": {},
   "outputs": [
    {
     "name": "stdout",
     "output_type": "stream",
     "text": [
      "Requirement already satisfied: selenium in c:\\users\\fic\\anaconda3\\lib\\site-packages (4.24.0)\n",
      "Requirement already satisfied: urllib3<3,>=1.26 in c:\\users\\fic\\anaconda3\\lib\\site-packages (from urllib3[socks]<3,>=1.26->selenium) (2.2.2)\n",
      "Requirement already satisfied: trio~=0.17 in c:\\users\\fic\\anaconda3\\lib\\site-packages (from selenium) (0.26.2)\n",
      "Requirement already satisfied: trio-websocket~=0.9 in c:\\users\\fic\\anaconda3\\lib\\site-packages (from selenium) (0.11.1)\n",
      "Requirement already satisfied: certifi>=2021.10.8 in c:\\users\\fic\\anaconda3\\lib\\site-packages (from selenium) (2024.7.4)\n",
      "Requirement already satisfied: typing_extensions~=4.9 in c:\\users\\fic\\anaconda3\\lib\\site-packages (from selenium) (4.11.0)\n",
      "Requirement already satisfied: websocket-client~=1.8 in c:\\users\\fic\\anaconda3\\lib\\site-packages (from selenium) (1.8.0)\n",
      "Requirement already satisfied: attrs>=23.2.0 in c:\\users\\fic\\anaconda3\\lib\\site-packages (from trio~=0.17->selenium) (24.2.0)\n",
      "Requirement already satisfied: sortedcontainers in c:\\users\\fic\\anaconda3\\lib\\site-packages (from trio~=0.17->selenium) (2.4.0)\n",
      "Requirement already satisfied: idna in c:\\users\\fic\\anaconda3\\lib\\site-packages (from trio~=0.17->selenium) (3.7)\n",
      "Requirement already satisfied: outcome in c:\\users\\fic\\anaconda3\\lib\\site-packages (from trio~=0.17->selenium) (1.3.0.post0)\n",
      "Requirement already satisfied: sniffio>=1.3.0 in c:\\users\\fic\\anaconda3\\lib\\site-packages (from trio~=0.17->selenium) (1.3.0)\n",
      "Requirement already satisfied: cffi>=1.14 in c:\\users\\fic\\anaconda3\\lib\\site-packages (from trio~=0.17->selenium) (1.16.0)\n",
      "Requirement already satisfied: wsproto>=0.14 in c:\\users\\fic\\anaconda3\\lib\\site-packages (from trio-websocket~=0.9->selenium) (1.2.0)\n",
      "Requirement already satisfied: pysocks!=1.5.7,<2.0,>=1.5.6 in c:\\users\\fic\\anaconda3\\lib\\site-packages (from urllib3[socks]<3,>=1.26->selenium) (1.7.1)\n",
      "Requirement already satisfied: pycparser in c:\\users\\fic\\anaconda3\\lib\\site-packages (from cffi>=1.14->trio~=0.17->selenium) (2.21)\n",
      "Requirement already satisfied: h11<1,>=0.9.0 in c:\\users\\fic\\anaconda3\\lib\\site-packages (from wsproto>=0.14->trio-websocket~=0.9->selenium) (0.14.0)\n"
     ]
    }
   ],
   "source": [
    "!pip install selenium"
   ]
  },
  {
   "cell_type": "code",
   "execution_count": 64,
   "id": "e8147501-2534-4078-9b2b-0b06bff9ec7d",
   "metadata": {},
   "outputs": [],
   "source": [
    "importando as bibliotecas\n",
    "from selenium import webdriver\n",
    "from selenium.webdriver.common.by import By #este By tem o B maiusculo"
   ]
  },
  {
   "cell_type": "code",
   "execution_count": 72,
   "id": "592ae054-ae94-4877-810a-08a13ab4e0bf",
   "metadata": {},
   "outputs": [
    {
     "name": "stdout",
     "output_type": "stream",
     "text": [
      "Cursos\n",
      "NOTÍCIAS\n"
     ]
    }
   ],
   "source": [
    "#abrimos uma instancia do navegador google chome\n",
    "driver = webdriver.Chrome()\n",
    "driver.implicitly_wait(2)#espera de dois segundos\n",
    "#acessa a pagina do\n",
    "driver.get('https://www.sp.senai.br/')\n",
    "#titulo da pagina\n",
    "titulo = driver.title\n",
    "tags_h1 = driver.find_elements(By.TAG_NAME, 'h2')\n",
    "print(tags_h1[0].text)\n",
    "print(tags_h1[1].text)\n",
    "#print(titulo)\n",
    "\n",
    "driver.implicitly_wait(2)\n",
    "#fechamos a instancia do navegador aberto\n",
    "driver.quit()"
   ]
  },
  {
   "cell_type": "code",
   "execution_count": 53,
   "id": "398eea75-037e-43c1-a77d-9b3b5adf13db",
   "metadata": {},
   "outputs": [],
   "source": [
    "#são testes\n",
    "driver = webdriver.Chrome()\n",
    "driver.implicitly_wait(2)#espera de dois segundos\n",
    "#acessa a pagina do\n",
    "driver.get('https://www.sp.senac.br/')"
   ]
  },
  {
   "cell_type": "code",
   "execution_count": null,
   "id": "fee660b9-8687-4fc8-ae2f-dfae3dfa1a56",
   "metadata": {},
   "outputs": [],
   "source": [
    "driver.get('https://www.sp.senac.br/')\n",
    "driver.implicitly_wait(2)\n",
    "\n",
    "# Abre uma nova aba e acessa a segunda página\n",
    "driver.execute_script(\"window.open('https://www.senai.br/', '_blank');\")\n",
    "driver.implicitly_wait(2)\n",
    "\n",
    "# Obtém todas as abas/janelas abertas\n",
    "tabs = driver.window_handles\n",
    "\n",
    "# Alterna para a segunda aba (segunda página)\n",
    "driver.switch_to.window(tabs[1])\n",
    "driver.implicitly_wait(2)\n",
    "\n",
    "# Agora você pode interagir com a segunda página"
   ]
  },
  {
   "cell_type": "code",
   "execution_count": 37,
   "id": "05ce1779-4f68-4679-9cfb-ea7074f7707d",
   "metadata": {},
   "outputs": [],
   "source": [
    "from selenium import webdriver\n",
    "from selenium.webdriver.common.keys import Keys\n",
    "\n",
    "# Inicializando o navegador\n",
    "driver = webdriver.Chrome()\n",
    "\n",
    "# Acesso à primeira página\n",
    "driver.get('https://www.sp.senac.br/')\n",
    "driver.implicitly_wait(2)\n",
    "\n",
    "# Abre uma nova aba e acessa a segunda página\n",
    "driver.execute_script(\"window.open('https://www.senai.br/', '_blank');\")\n",
    "driver.implicitly_wait(2)\n",
    "\n",
    "# Obtém todas as abas/janelas abertas\n",
    "tabs = driver.window_handles\n",
    "\n",
    "# Alterna para a segunda aba (segunda página)\n",
    "driver.switch_to.window(tabs[1])\n",
    "driver.implicitly_wait(2)\n",
    "\n",
    "# Agora você pode interagir com a segunda página\n"
   ]
  },
  {
   "cell_type": "code",
   "execution_count": null,
   "id": "b1da826e-dd50-4498-b423-50fdaa3fef95",
   "metadata": {},
   "outputs": [],
   "source": []
  },
  {
   "cell_type": "code",
   "execution_count": 76,
   "id": "e7a6f178-42de-4b63-b15d-b49efb1a5d0e",
   "metadata": {},
   "outputs": [
    {
     "name": "stdout",
     "output_type": "stream",
     "text": [
      "Table playground\n",
      "Semantically correct table with thead and tbody\n"
     ]
    }
   ],
   "source": [
    "\"\"\"driver = webdriver.Chrome()\n",
    "driver.implicitly_wait(2)#espera de dois segundos\n",
    "#acessa a pagina do\n",
    "driver.get('http://webscraper.io/test-sites/tables')\n",
    "#titulo da pagina\n",
    "titulo = driver.title\n",
    "tags_h1 = driver.find_elements(By.TAG_NAME, 'h2')\n",
    "print(tags_h1[0].text)\n",
    "print(tags_h1[1].text)\n",
    "#print(titulo)\n",
    "\n",
    "driver.implicitly_wait(2)\n",
    "#fechamos a instancia do navegador aberto\n",
    "#driver.quit()\"\"\""
   ]
  },
  {
   "cell_type": "code",
   "execution_count": 87,
   "id": "ceb8b030-a699-421f-9cdf-897688799659",
   "metadata": {},
   "outputs": [
    {
     "name": "stdout",
     "output_type": "stream",
     "text": [
      "Table playground\n",
      "Semantically correct table with thead and tbody\n"
     ]
    }
   ],
   "source": [
    "\"\"\"driver = webdriver.Chrome()\n",
    "driver.implicitly_wait(2)\n",
    "\n",
    "# Acessa a página de teste de tabelas\n",
    "driver.get('http://webscraper.io/test-sites/tables')\n",
    "\n",
    "# Captura o título da página\n",
    "titulo = driver.title\n",
    "\n",
    "# Localiza todas as tags <h2> na página e imprime o texto\n",
    "tags_h2 = driver.find_elements(By.TAG_NAME, 'h2')\n",
    "print(tags_h2[0].text)\n",
    "print(tags_h2[1].text)\n",
    "\n",
    "# Localiza os elementos da tabela que contêm os nomes \"Harry\", \"John\", \"Tim\"\n",
    "nomes = driver.find_elements(By.XPATH, \"//table//td[1]\")  # XPath para a primeira coluna da tabela\n",
    "\n",
    "# Filtra e imprime apenas os nomes \"Harry\", \"John\", e \"Tim\"\n",
    "nomes_desejados = ['Harry', 'John', 'Tim']\n",
    "for nome in nomes:\n",
    "    if nome.text in nomes_desejados:\n",
    "        print(nome.text)\n",
    "\n",
    "# Aguarda 2 segundos antes de fechar o navegador\n",
    "driver.implicitly_wait(2)\n",
    "\n",
    "# Fecha o navegador\n",
    "driver.quit() \"\"\""
   ]
  },
  {
   "cell_type": "code",
   "execution_count": 107,
   "id": "ca5d0fc7-81eb-4790-9344-aecf6d5c06bd",
   "metadata": {},
   "outputs": [
    {
     "name": "stdout",
     "output_type": "stream",
     "text": [
      "Mark\n",
      "Jacob\n",
      "Larry\n",
      "Harry\n",
      "John\n",
      "Tim\n"
     ]
    }
   ],
   "source": [
    "#abrimos uma instancia do navegador google chome\n",
    "driver = webdriver.Chrome()\n",
    "driver.implicitly_wait(2)#espera de dois segundos\n",
    "#acessa a pagina do\n",
    "driver.get('https://webscraper.io/test-sites/tables')\n",
    "#titulo da pagina\n",
    "titulo = driver.title\n",
    "tags_td = driver.find_elements(By.TAG_NAME, 'td')\n",
    "\n",
    "for index in range(1,24, 4):\n",
    "    print(tags_td[index].text)\n",
    "    \n",
    "\n",
    "\n",
    "\"\"\"print(tags_h1[0].text)\n",
    "print(tags_h1[1].text)\n",
    "print(tags_h1[2].text)\n",
    "print(tags_h1[3].text)\n",
    "#print(titulo)\"\"\"\n",
    "\n",
    "#driver.implicitly_wait(2)\n",
    "#fechamos a instancia do navegador aberto \"\"\"\n",
    "driver.quit()"
   ]
  },
  {
   "cell_type": "code",
   "execution_count": null,
   "id": "492e5f0d-6509-439b-8f61-c615d35e82b5",
   "metadata": {},
   "outputs": [],
   "source": []
  },
  {
   "cell_type": "code",
   "execution_count": null,
   "id": "33f31be0-e666-4efa-bbaa-c9545bf1adfb",
   "metadata": {},
   "outputs": [],
   "source": []
  }
 ],
 "metadata": {
  "kernelspec": {
   "display_name": "Python 3 (ipykernel)",
   "language": "python",
   "name": "python3"
  },
  "language_info": {
   "codemirror_mode": {
    "name": "ipython",
    "version": 3
   },
   "file_extension": ".py",
   "mimetype": "text/x-python",
   "name": "python",
   "nbconvert_exporter": "python",
   "pygments_lexer": "ipython3",
   "version": "3.12.4"
  }
 },
 "nbformat": 4,
 "nbformat_minor": 5
}
