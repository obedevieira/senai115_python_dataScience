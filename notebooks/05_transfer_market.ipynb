{
 "cells": [
  {
   "cell_type": "code",
   "execution_count": 27,
   "id": "2975baf2-6fa6-4a84-85f4-919e29e14019",
   "metadata": {},
   "outputs": [],
   "source": [
    "#im´portar as bibliotecas\n",
    "from selenium import webdriver #manipular dados web\n",
    "from selenium.webdriver.common.by import By #"
   ]
  },
  {
   "cell_type": "code",
   "execution_count": 49,
   "id": "bb1b76fe-9f7d-46e3-81df-253eaf8b98c6",
   "metadata": {},
   "outputs": [
    {
     "data": {
      "text/plain": [
       "'3\\nBayern\\nBundesliga\\nAllianz Arena\\n75.024 2 Primeira Divisão 1 75.024 1 75.024'"
      ]
     },
     "metadata": {},
     "output_type": "display_data"
    },
    {
     "ename": "NameError",
     "evalue": "name 'dados' is not defined",
     "output_type": "error",
     "traceback": [
      "\u001b[1;31m---------------------------------------------------------------------------\u001b[0m",
      "\u001b[1;31mNameError\u001b[0m                                 Traceback (most recent call last)",
      "Cell \u001b[1;32mIn[49], line 11\u001b[0m\n\u001b[0;32m      9\u001b[0m display(linhas_impares[\u001b[38;5;241m1\u001b[39m]\u001b[38;5;241m.\u001b[39mtext)\n\u001b[0;32m     10\u001b[0m \u001b[38;5;66;03m#print(linhas_impares[1].text.split('\\n'))\u001b[39;00m\n\u001b[1;32m---> 11\u001b[0m dados[\u001b[38;5;241m4\u001b[39m] \u001b[38;5;241m+\u001b[39m\u001b[38;5;241m=\u001b[39mdados[\u001b[38;5;241m4\u001b[39m]\u001b[38;5;241m.\u001b[39msplit()\n\u001b[0;32m     12\u001b[0m \u001b[38;5;28mprint\u001b[39m(dados)\n\u001b[0;32m     13\u001b[0m dados\u001b[38;5;241m.\u001b[39mpop(\u001b[38;5;241m4\u001b[39m)\n",
      "\u001b[1;31mNameError\u001b[0m: name 'dados' is not defined"
     ]
    }
   ],
   "source": [
    "driver = webdriver.Chrome()#chamar a classe do Chome\n",
    "driver.implicitly_wait(2)\n",
    "driver.get('https://www.transfermarkt.com.br/verein-statistik/zuschauerrangliste/statistik/stat/plus/1?selectedOptionKey=0&wettbewerb=liga')\n",
    "#dados_tabela = driver.find_elements(By.TAG_NAME, 'td')\n",
    "#print(dados_tabela[0].text)\n",
    "linhas_impares = driver.find_elements(By.CLASS_NAME, 'odd')\n",
    "#display(linhas_impares[1])\n",
    "#print(linhas_impares[0].text\n",
    "display(linhas_impares[1].text)\n",
    "#print(linhas_impares[1].text.split('\\n'))\n",
    "\n",
    "print(dados)\n",
    "dados +=dados[4].split()\n",
    "print(dados)\n",
    "dados.pop(4)\n",
    "print(dados)\n"
   ]
  },
  {
   "cell_type": "raw",
   "id": "799fc3d5-d8c2-4fd0-842f-7e6df69c4cd1",
   "metadata": {},
   "source": []
  },
  {
   "cell_type": "code",
   "execution_count": null,
   "id": "c4bb3e7d-4ba7-4e9b-8046-779bbc42390a",
   "metadata": {},
   "outputs": [],
   "source": []
  }
 ],
 "metadata": {
  "kernelspec": {
   "display_name": "Python 3 (ipykernel)",
   "language": "python",
   "name": "python3"
  },
  "language_info": {
   "codemirror_mode": {
    "name": "ipython",
    "version": 3
   },
   "file_extension": ".py",
   "mimetype": "text/x-python",
   "name": "python",
   "nbconvert_exporter": "python",
   "pygments_lexer": "ipython3",
   "version": "3.12.4"
  }
 },
 "nbformat": 4,
 "nbformat_minor": 5
}
